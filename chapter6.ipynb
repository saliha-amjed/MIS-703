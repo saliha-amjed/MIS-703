{
 "cells": [
  {
   "cell_type": "code",
   "execution_count": 5,
   "id": "36ca631a",
   "metadata": {},
   "outputs": [
    {
     "name": "stdout",
     "output_type": "stream",
     "text": [
      "hellothere\n",
      "124\n"
     ]
    }
   ],
   "source": [
    "#string data type\n",
    "str1=\"hello\"\n",
    "str2=\"there\"\n",
    "bob=str1+str2\n",
    "print(bob)\n",
    "\n",
    "str3='123'\n",
    "#str3=str3+1\n",
    "x=int(str3)+1\n",
    "print(x)"
   ]
  },
  {
   "cell_type": "code",
   "execution_count": null,
   "id": "a700de9e",
   "metadata": {},
   "outputs": [],
   "source": []
  }
 ],
 "metadata": {
  "kernelspec": {
   "display_name": "Python 3 (ipykernel)",
   "language": "python",
   "name": "python3"
  },
  "language_info": {
   "codemirror_mode": {
    "name": "ipython",
    "version": 3
   },
   "file_extension": ".py",
   "mimetype": "text/x-python",
   "name": "python",
   "nbconvert_exporter": "python",
   "pygments_lexer": "ipython3",
   "version": "3.9.13"
  }
 },
 "nbformat": 4,
 "nbformat_minor": 5
}
