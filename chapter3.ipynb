{
 "cells": [
  {
   "cell_type": "code",
   "execution_count": 1,
   "id": "cf045e80",
   "metadata": {
    "scrolled": true
   },
   "outputs": [
    {
     "name": "stdout",
     "output_type": "stream",
     "text": [
      "smaller\n",
      "finis\n"
     ]
    }
   ],
   "source": [
    "#conditional steps\n",
    "x=5\n",
    "if x<10:\n",
    "    print('smaller')\n",
    "if x>20:\n",
    "    print('bigger')\n",
    "print('finis')\n"
   ]
  },
  {
   "cell_type": "code",
   "execution_count": 3,
   "id": "4a5d03a4",
   "metadata": {},
   "outputs": [
    {
     "name": "stdout",
     "output_type": "stream",
     "text": [
      "equal\n"
     ]
    }
   ],
   "source": [
    "#comaprison operators\n",
    "x=5\n",
    "if x==5:\n",
    "    print('equal')"
   ]
  },
  {
   "cell_type": "code",
   "execution_count": 4,
   "id": "9536348e",
   "metadata": {},
   "outputs": [
    {
     "name": "stdout",
     "output_type": "stream",
     "text": [
      "greater than 4\n"
     ]
    }
   ],
   "source": [
    "if x>4:\n",
    "    print('greater than 4')"
   ]
  },
  {
   "cell_type": "code",
   "execution_count": 5,
   "id": "56b098a3",
   "metadata": {},
   "outputs": [
    {
     "name": "stdout",
     "output_type": "stream",
     "text": [
      "greater or equals to 5\n"
     ]
    }
   ],
   "source": [
    "if x>=5:\n",
    "    print('greater or equals to 5')"
   ]
  },
  {
   "cell_type": "code",
   "execution_count": 6,
   "id": "bea5e9e4",
   "metadata": {},
   "outputs": [
    {
     "name": "stdout",
     "output_type": "stream",
     "text": [
      "less than 6\n"
     ]
    }
   ],
   "source": [
    "if x<6:\n",
    "    print('less than 6')"
   ]
  },
  {
   "cell_type": "code",
   "execution_count": 7,
   "id": "8491e434",
   "metadata": {},
   "outputs": [
    {
     "name": "stdout",
     "output_type": "stream",
     "text": [
      "less or equal to 10\n"
     ]
    }
   ],
   "source": [
    "if x<=10:\n",
    "    print('less or equal to 10')"
   ]
  },
  {
   "cell_type": "code",
   "execution_count": 21,
   "id": "76d5d205",
   "metadata": {},
   "outputs": [
    {
     "name": "stdout",
     "output_type": "stream",
     "text": [
      "not equal to 5\n"
     ]
    }
   ],
   "source": [
    "x=6\n",
    "if x!=5:\n",
    "    print('not equal to 5')"
   ]
  },
  {
   "cell_type": "code",
   "execution_count": 20,
   "id": "6f1b5f7d",
   "metadata": {},
   "outputs": [
    {
     "name": "stdout",
     "output_type": "stream",
     "text": [
      "before 5\n",
      "equal 5\n",
      "is 5\n",
      "still 5\n",
      "afterwards 5\n"
     ]
    }
   ],
   "source": [
    "#one-way decisions\n",
    "x=5\n",
    "print('before 5')\n",
    "\n",
    "if x==5:\n",
    "    print('equal 5')\n",
    "    print('is 5')\n",
    "    print('still 5')\n",
    "print('afterwards 5')"
   ]
  },
  {
   "cell_type": "code",
   "execution_count": 23,
   "id": "de17810e",
   "metadata": {},
   "outputs": [
    {
     "name": "stdout",
     "output_type": "stream",
     "text": [
      "more than 10\n",
      "less than 50\n",
      "all done\n"
     ]
    }
   ],
   "source": [
    "#nested decisions\n",
    "x=42\n",
    "if x>10:\n",
    "    print('more than 10')\n",
    "if x<50:\n",
    "    print('less than 50')\n",
    "print('all done')"
   ]
  },
  {
   "cell_type": "code",
   "execution_count": 24,
   "id": "72d76340",
   "metadata": {},
   "outputs": [
    {
     "name": "stdout",
     "output_type": "stream",
     "text": [
      "less than 4\n",
      "all done\n"
     ]
    }
   ],
   "source": [
    "#two-way decisions\n",
    "x=2\n",
    "if x<4:\n",
    "    print('less than 4')\n",
    "else:\n",
    "    print('greater than 4')\n",
    "print('all done')"
   ]
  },
  {
   "cell_type": "code",
   "execution_count": null,
   "id": "1517153f",
   "metadata": {},
   "outputs": [],
   "source": []
  }
 ],
 "metadata": {
  "kernelspec": {
   "display_name": "Python 3 (ipykernel)",
   "language": "python",
   "name": "python3"
  },
  "language_info": {
   "codemirror_mode": {
    "name": "ipython",
    "version": 3
   },
   "file_extension": ".py",
   "mimetype": "text/x-python",
   "name": "python",
   "nbconvert_exporter": "python",
   "pygments_lexer": "ipython3",
   "version": "3.9.13"
  }
 },
 "nbformat": 4,
 "nbformat_minor": 5
}
